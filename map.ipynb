{
 "cells": [
  {
   "cell_type": "code",
   "execution_count": 1,
   "metadata": {},
   "outputs": [
    {
     "name": "stderr",
     "output_type": "stream",
     "text": [
      "\n",
      "Bad key \"text.kerning_factor\" on line 4 in\n",
      "C:\\Users\\fb428\\Miniconda3\\envs\\flossmain\\lib\\site-packages\\matplotlib\\mpl-data\\stylelib\\_classic_test_patch.mplstyle.\n",
      "You probably need to get an updated matplotlibrc file from\n",
      "https://github.com/matplotlib/matplotlib/blob/v3.1.2/matplotlibrc.template\n",
      "or from the matplotlib source distribution\n"
     ]
    }
   ],
   "source": [
    "import matplotlib.pyplot as plt\n",
    "import numpy as np\n",
    "import cartopy as cart\n",
    "import pandas as pd\n",
    "import cartopy as cart\n",
    "import os"
   ]
  },
  {
   "cell_type": "code",
   "execution_count": 2,
   "metadata": {},
   "outputs": [
    {
     "data": {
      "text/plain": [
       "'C:\\\\Users\\\\fb428\\\\OneDrive - University of Exeter\\\\Documents\\\\PhD\\\\papers\\\\manuscript3\\\\figures_and_data\\\\figure_making\\\\output_scripts'"
      ]
     },
     "execution_count": 2,
     "metadata": {},
     "output_type": "execute_result"
    }
   ],
   "source": [
    "os.getcwd()"
   ]
  },
  {
   "cell_type": "code",
   "execution_count": 3,
   "metadata": {},
   "outputs": [],
   "source": [
    "#--------------------------------------------------------------------------\n",
    "# LOAD DATAFRAMES\n",
    "#--------------------------------------------------------------------------\n",
    "os.chdir('C:\\\\Users\\\\fb428\\\\OneDrive - University of Exeter\\\\Documents\\\\PhD\\\\papers\\\\manuscript3\\\\figures_and_data\\\\figure_making\\\\output_files')\n",
    "\n",
    "site_info = pd.read_csv('station_info.csv')\n",
    "\n",
    "locs = site_info[['item', 'name', 'Lat', 'Lon']].drop_duplicates()"
   ]
  },
  {
   "cell_type": "code",
   "execution_count": 4,
   "metadata": {},
   "outputs": [],
   "source": [
    "mean_locs = locs.groupby('name').mean().reset_index()"
   ]
  },
  {
   "cell_type": "code",
   "execution_count": 5,
   "metadata": {},
   "outputs": [
    {
     "data": {
      "text/html": [
       "<div>\n",
       "<style scoped>\n",
       "    .dataframe tbody tr th:only-of-type {\n",
       "        vertical-align: middle;\n",
       "    }\n",
       "\n",
       "    .dataframe tbody tr th {\n",
       "        vertical-align: top;\n",
       "    }\n",
       "\n",
       "    .dataframe thead th {\n",
       "        text-align: right;\n",
       "    }\n",
       "</style>\n",
       "<table border=\"1\" class=\"dataframe\">\n",
       "  <thead>\n",
       "    <tr style=\"text-align: right;\">\n",
       "      <th></th>\n",
       "      <th>name</th>\n",
       "      <th>item</th>\n",
       "      <th>Lat</th>\n",
       "      <th>Lon</th>\n",
       "    </tr>\n",
       "  </thead>\n",
       "  <tbody>\n",
       "    <tr>\n",
       "      <th>0</th>\n",
       "      <td>Amazonas</td>\n",
       "      <td>17.750000</td>\n",
       "      <td>-3.010550</td>\n",
       "      <td>-60.229250</td>\n",
       "    </tr>\n",
       "    <tr>\n",
       "      <th>1</th>\n",
       "      <td>Bogota</td>\n",
       "      <td>0.937500</td>\n",
       "      <td>4.897599</td>\n",
       "      <td>-74.359194</td>\n",
       "    </tr>\n",
       "    <tr>\n",
       "      <th>2</th>\n",
       "      <td>Bukit Koto</td>\n",
       "      <td>4.000000</td>\n",
       "      <td>-0.200000</td>\n",
       "      <td>100.320000</td>\n",
       "    </tr>\n",
       "    <tr>\n",
       "      <th>3</th>\n",
       "      <td>Congo</td>\n",
       "      <td>14.000000</td>\n",
       "      <td>0.480000</td>\n",
       "      <td>24.300000</td>\n",
       "    </tr>\n",
       "    <tr>\n",
       "      <th>4</th>\n",
       "      <td>Daintree</td>\n",
       "      <td>15.000000</td>\n",
       "      <td>-16.100000</td>\n",
       "      <td>145.400000</td>\n",
       "    </tr>\n",
       "    <tr>\n",
       "      <th>5</th>\n",
       "      <td>Darwin</td>\n",
       "      <td>21.000000</td>\n",
       "      <td>-12.456667</td>\n",
       "      <td>130.900000</td>\n",
       "    </tr>\n",
       "    <tr>\n",
       "      <th>6</th>\n",
       "      <td>Jakarta</td>\n",
       "      <td>5.000000</td>\n",
       "      <td>-6.411067</td>\n",
       "      <td>107.088133</td>\n",
       "    </tr>\n",
       "    <tr>\n",
       "      <th>7</th>\n",
       "      <td>Mt. Kenya</td>\n",
       "      <td>9.000000</td>\n",
       "      <td>-0.062000</td>\n",
       "      <td>37.297000</td>\n",
       "    </tr>\n",
       "    <tr>\n",
       "      <th>8</th>\n",
       "      <td>Panama</td>\n",
       "      <td>16.000000</td>\n",
       "      <td>9.150000</td>\n",
       "      <td>-79.830000</td>\n",
       "    </tr>\n",
       "    <tr>\n",
       "      <th>9</th>\n",
       "      <td>Porto Velho</td>\n",
       "      <td>19.000000</td>\n",
       "      <td>-8.687000</td>\n",
       "      <td>-63.869000</td>\n",
       "    </tr>\n",
       "    <tr>\n",
       "      <th>10</th>\n",
       "      <td>San Lorenzo</td>\n",
       "      <td>10.000000</td>\n",
       "      <td>-25.366670</td>\n",
       "      <td>-57.550000</td>\n",
       "    </tr>\n",
       "    <tr>\n",
       "      <th>11</th>\n",
       "      <td>Santarem</td>\n",
       "      <td>20.000000</td>\n",
       "      <td>-2.850000</td>\n",
       "      <td>-54.967000</td>\n",
       "    </tr>\n",
       "    <tr>\n",
       "      <th>12</th>\n",
       "      <td>Sao Paulo</td>\n",
       "      <td>11.947368</td>\n",
       "      <td>-23.579968</td>\n",
       "      <td>-46.613426</td>\n",
       "    </tr>\n",
       "    <tr>\n",
       "      <th>13</th>\n",
       "      <td>Tanah Rata</td>\n",
       "      <td>7.000000</td>\n",
       "      <td>4.466670</td>\n",
       "      <td>101.383330</td>\n",
       "    </tr>\n",
       "    <tr>\n",
       "      <th>14</th>\n",
       "      <td>Watukosek</td>\n",
       "      <td>8.000000</td>\n",
       "      <td>-7.564700</td>\n",
       "      <td>112.678100</td>\n",
       "    </tr>\n",
       "  </tbody>\n",
       "</table>\n",
       "</div>"
      ],
      "text/plain": [
       "           name       item        Lat         Lon\n",
       "0      Amazonas  17.750000  -3.010550  -60.229250\n",
       "1        Bogota   0.937500   4.897599  -74.359194\n",
       "2    Bukit Koto   4.000000  -0.200000  100.320000\n",
       "3         Congo  14.000000   0.480000   24.300000\n",
       "4      Daintree  15.000000 -16.100000  145.400000\n",
       "5        Darwin  21.000000 -12.456667  130.900000\n",
       "6       Jakarta   5.000000  -6.411067  107.088133\n",
       "7     Mt. Kenya   9.000000  -0.062000   37.297000\n",
       "8        Panama  16.000000   9.150000  -79.830000\n",
       "9   Porto Velho  19.000000  -8.687000  -63.869000\n",
       "10  San Lorenzo  10.000000 -25.366670  -57.550000\n",
       "11     Santarem  20.000000  -2.850000  -54.967000\n",
       "12    Sao Paulo  11.947368 -23.579968  -46.613426\n",
       "13   Tanah Rata   7.000000   4.466670  101.383330\n",
       "14    Watukosek   8.000000  -7.564700  112.678100"
      ]
     },
     "execution_count": 5,
     "metadata": {},
     "output_type": "execute_result"
    }
   ],
   "source": [
    "mean_locs"
   ]
  },
  {
   "cell_type": "code",
   "execution_count": 6,
   "metadata": {},
   "outputs": [],
   "source": [
    "low_elev = mean_locs[(mean_locs['name'] != 'Tanah Rata') & (mean_locs['name'] != 'Mt. Kenya')]"
   ]
  },
  {
   "cell_type": "code",
   "execution_count": 43,
   "metadata": {},
   "outputs": [],
   "source": [
    "loc = pd.merge(pd.DataFrame(np.array([['Bogota',1,-1],['Bukit Koto', 3, -3], ['Congo', 1, -6], ['Daintree', -10, -8],\n",
    "                               ['Darwin', -8, -8], ['Jakarta', 2, 1], ['Santarem',-4, 3 ], ['Panama',2, -6 ],\n",
    "                               ['Porto Velho', -10, -4], ['San Lorenzo', -8, -8], ['Sao Paulo',-4,3], \n",
    "                               ['Amazonas', 1, -3], ['Watukosek', -4,3]]), columns = ['name', 'y_space', 'x_space']), low_elev, on='name')"
   ]
  },
  {
   "cell_type": "code",
   "execution_count": 45,
   "metadata": {},
   "outputs": [],
   "source": [
    "loc.iloc[-3,0] = r'S$\\tilde\\mathrm{a}$o Paulo'\n",
    "loc.iloc[0,0] =  r'Bogot$\\acute\\mathrm{a}$'"
   ]
  },
  {
   "cell_type": "code",
   "execution_count": 58,
   "metadata": {},
   "outputs": [],
   "source": [
    "import matplotlib\n",
    "matplotlib.rc('axes',edgecolor='grey')"
   ]
  },
  {
   "cell_type": "code",
   "execution_count": 61,
   "metadata": {},
   "outputs": [
    {
     "data": {
      "image/png": "[encoded data removed]",
      "text/plain": [
       "<Figure size 1008x720 with 1 Axes>"
      ]
     },
     "metadata": {
      "needs_background": "light"
     },
     "output_type": "display_data"
    }
   ],
   "source": [
    "fig, axs = plt.subplots(1,1, figsize=(14, 10), subplot_kw=dict(projection=cart.crs.PlateCarree()))\n",
    "\n",
    "x = np.linspace(0,180,20)\n",
    "y = np.linspace(-40,40,20)\n",
    "\n",
    "plt.plot(loc.Lon.values, loc.Lat.values, 'x', markersize=10, markeredgewidth=2, color='coral')\n",
    "\n",
    "for i in range(len(loc)):\n",
    "    t = plt.text(loc.Lon.values[i]+int(loc.x_space.values[i]),\n",
    "                 loc.Lat.values[i]+2+int(loc.y_space.values[i]),\n",
    "                 loc.name.values[i], \n",
    "                 color='brown', size=15)\n",
    "    #t.set_bbox(dict(facecolor='mistyrose', alpha=0.6, edgecolor='mistyrose'))\n",
    "\n",
    "axs.coastlines(color=(0.8,0.8,0.8))\n",
    "axs.add_feature(cart.feature.LAND,facecolor=(0.8,0.8,0.8))\n",
    "\n",
    "axs.set_ylim(-35,30)\n",
    "\n",
    "plt.savefig('map.png', dpi=300)"
   ]
  },
  {
   "cell_type": "code",
   "execution_count": 66,
   "metadata": {},
   "outputs": [
    {
     "data": {
      "text/plain": [
       "-1"
      ]
     },
     "execution_count": 66,
     "metadata": {},
     "output_type": "execute_result"
    }
   ],
   "source": [
    "int(loc.x_space[i])"
   ]
  },
  {
   "cell_type": "code",
   "execution_count": null,
   "metadata": {},
   "outputs": [],
   "source": []
  }
 ],
 "metadata": {
  "kernelspec": {
   "display_name": "Python 3",
   "language": "python",
   "name": "python3"
  },
  "language_info": {
   "codemirror_mode": {
    "name": "ipython",
    "version": 3
   },
   "file_extension": ".py",
   "mimetype": "text/x-python",
   "name": "python",
   "nbconvert_exporter": "python",
   "pygments_lexer": "ipython3",
   "version": "3.8.5"
  }
 },
 "nbformat": 4,
 "nbformat_minor": 4
}
